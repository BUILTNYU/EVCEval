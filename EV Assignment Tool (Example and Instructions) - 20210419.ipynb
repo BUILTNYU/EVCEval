{
 "cells": [
  {
   "cell_type": "code",
   "execution_count": null,
   "metadata": {
    "colab_type": "text",
    "id": "DYq9FyxJ283m"
   },
   "outputs": [],
   "source": [
    "import numpy as np\n",
    "import pandas as pd\n",
    "import matplotlib.pyplot as plt\n",
    "import os"
   ]
  },
  {
   "cell_type": "markdown",
   "metadata": {},
   "source": [
    "# EV Assignment Tool"
   ]
  },
  {
   "cell_type": "markdown",
   "metadata": {},
   "source": [
    "This script gives an EV-to-charging station assignment tool with M/D/C charging station queueing, The tool outputs the assignment matrix, the access cost matrix, as well as the expected wait time and utilization ratio of charging stations, and average access cost of the origins. It could be used to evaluate current or designed EV charging station configurations. \n",
    "\n",
    "The EV assignment is formulated as a capacitated user equilibrium (UE) problem, originally introduced in Beckman et al. (1956), to capture users’ charging station choice. At UE, charging stations used by the EVs from the same origin should have the smallest and the same access cost (travel cost + waiting cost). The capacity if charging station is reflected in the M/D/C queueing model, which assumes users arrive sufficiently randomly while charging time is deterministic (e.g. an empty tank will take half hour to fully recharge in a DCFC). Because there is no closed form expression for an M/D/C model, we make use of an approximation from Barceló et al. (1996). The model is solved using a Method of Successive Averages which guarantees convergence for convex problems like this one (Powell and Sheffi, 1982). \n",
    "\n",
    "The following example demonstrate how the tool works.\n",
    "\n",
    "---\n",
    "\n",
    "References:\n",
    "\n",
    "Beckmann, M., McGuire, C. B., & Winsten, C. B. (1956). Studies in the Economics of Transportation (No. 226 pp).\n",
    "\n",
    "Barceló, F., Casares, V., & Paradells, J. (1996). M/D/C queue with priority: Application to trunked mobile radio systems. Electronics Letters, 32(18), 1644-1644.\n",
    "\n",
    "Powell, W. B., & Sheffi, Y. (1982). The convergence of equilibrium algorithms with predetermined step sizes. Transportation Science, 16(1), 45-55."
   ]
  },
  {
   "cell_type": "markdown",
   "metadata": {},
   "source": [
    "---------------------------------------"
   ]
  },
  {
   "cell_type": "markdown",
   "metadata": {},
   "source": [
    "# Example\n",
    "\n",
    "Assume 5 EV parking locations and 3 charging stations. Each parking locations has 1 or more than 1 EV parked there. We are going to use the EV Assignment tool to get a UE assignment of all the EVs to the 3 charging stations."
   ]
  },
  {
   "cell_type": "code",
   "execution_count": null,
   "metadata": {
    "colab": {
     "base_uri": "https://localhost:8080/",
     "height": 355
    },
    "colab_type": "code",
    "executionInfo": {
     "elapsed": 857,
     "status": "ok",
     "timestamp": 1592247965004,
     "user": {
      "displayName": "Bingqing Liu",
      "photoUrl": "https://lh3.googleusercontent.com/a-/AOh14GjeTAZQKV4glLw88opyua5SFJSNQMVhbHM4TUOh=s64",
      "userId": "13303605985786953803"
     },
     "user_tz": 240
    },
    "id": "lGOrsL5B2831",
    "outputId": "e5f7d3d7-574c-498f-e28a-bf139c6e26bd",
    "scrolled": true
   },
   "outputs": [],
   "source": [
    "#Generate parking locations\n",
    "#x y coordinates between 0 and 10\n",
    "#number of EVs between 1 and 10\n",
    "EVLo_x = np.array([1.8,3.0,2.1,8.0,8.4])\n",
    "EVLo_y = np.array([7.8,6.3,1.8,3.0,1.0])\n",
    "EVLo_lmda = np.array([3,9,7,1,7])\n",
    "EVLo_ID = np.array([1,2,3,4,5])\n",
    "a = {\"ID\": EVLo_ID,\"x\":EVLo_x,\"y\":EVLo_y,\"Number of EVs\":EVLo_lmda}\n",
    "EVLo = pd.DataFrame(a)\n",
    "#Demand Evaluation\n",
    "demand = sum(EVLo[\"Number of EVs\"].to_numpy())\n",
    "print('Total number of EVs to be charged per day:',demand)\n",
    "print(\"EV Parking Location List:\")\n",
    "EVLo"
   ]
  },
  {
   "cell_type": "code",
   "execution_count": null,
   "metadata": {
    "colab": {
     "base_uri": "https://localhost:8080/",
     "height": 202
    },
    "colab_type": "code",
    "executionInfo": {
     "elapsed": 488,
     "status": "ok",
     "timestamp": 1592247965008,
     "user": {
      "displayName": "Bingqing Liu",
      "photoUrl": "https://lh3.googleusercontent.com/a-/AOh14GjeTAZQKV4glLw88opyua5SFJSNQMVhbHM4TUOh=s64",
      "userId": "13303605985786953803"
     },
     "user_tz": 240
    },
    "id": "n7SI29qj2838",
    "outputId": "00fc3a08-7f12-4eb6-cad7-d5e8f27270be",
    "scrolled": true
   },
   "outputs": [],
   "source": [
    "#Generate CS locations\n",
    "#x y coordinates between 0 and 10\n",
    "#service rate of 1 charger at the charging stations between 1 and 10\n",
    "#Number of chargers at the charging stations between 1 and 10\n",
    "CS_x = np.array([3.4,1.7,7.0])\n",
    "CS_y = np.array([9.9,4.2,7.4])\n",
    "CS_miu = np.array([2,6,7])\n",
    "CS_k = np.array([8,3,2])\n",
    "CS_ID = np.array([1,2,3])\n",
    "a = {\"ID\": CS_ID, \"x\":CS_x,\"y\":CS_y, \"mu\":CS_miu, \"Number of Chargers\":CS_k}\n",
    "CS = pd.DataFrame(a)\n",
    "#Supply Evaluation\n",
    "MIU = CS[\"mu\"].to_numpy()\n",
    "K = CS[\"Number of Chargers\"].to_numpy()\n",
    "supply = 0\n",
    "for i in range(3):\n",
    "    supply = supply+MIU[i]*K[i]\n",
    "print('Total service rate:',supply,\"veh/day\")\n",
    "print(\"Charging Station List:\")\n",
    "CS"
   ]
  },
  {
   "cell_type": "markdown",
   "metadata": {},
   "source": [
    "Now we plot the EV parking locations and the charging stations."
   ]
  },
  {
   "cell_type": "code",
   "execution_count": null,
   "metadata": {
    "scrolled": false
   },
   "outputs": [],
   "source": [
    "plt.figure(figsize=(7,7))\n",
    "plt.plot(EVLo.x.to_numpy(),EVLo.y.to_numpy(),'.',markersize = 15, label = 'EV Parking Locations')\n",
    "plt.plot(CS.x.to_numpy(),CS.y.to_numpy(),'*',markersize = 14, label = 'Charging Station')\n",
    "plt.legend()\n",
    "plt.xlim(0,11.1)\n",
    "plt.ylim(0,11.1)\n",
    "for i in range(5):\n",
    "    plt.text(EVLo.x.to_numpy()[i]-0.5,EVLo.y.to_numpy()[i]+0.35,'Parking Location '+str(i+1))\n",
    "    plt.text(EVLo.x.to_numpy()[i]+0.2,EVLo.y.to_numpy()[i],'('+str(np.round(EVLo.x.to_numpy()[i],1))+','+str(np.round(EVLo.y.to_numpy()[i],1))+')')\n",
    "for i in range(5):\n",
    "    plt.text(EVLo.x.to_numpy()[i]+0.18,EVLo.y.to_numpy()[i]-0.33,str(EVLo[\"Number of EVs\"].to_numpy()[i])+\" EVs\")\n",
    "for i in range(3):\n",
    "    plt.text(CS.x.to_numpy()[i]-0.5,CS.y.to_numpy()[i]+0.35,'Charging Station '+str(i+1))\n",
    "    plt.text(CS.x.to_numpy()[i]+0.2,CS.y.to_numpy()[i],'('+str(np.round(CS.x.to_numpy()[i],1))+','+str(np.round(CS.y.to_numpy()[i],1))+')')\n",
    "for i in range(3):\n",
    "    plt.text(CS.x.to_numpy()[i]+0.2,CS.y.to_numpy()[i]-0.33,'mu = '+str(np.round(CS['mu'].to_numpy()[i]))+' EVs/unit time')\n",
    "    plt.text(CS.x.to_numpy()[i]+0.2,CS.y.to_numpy()[i]-0.66, str(CS[\"Number of Chargers\"].to_numpy()[i])+\" chargers\")\n",
    "plt.show()"
   ]
  },
  {
   "cell_type": "markdown",
   "metadata": {},
   "source": [
    "With coordinates of the parking locations and charging stations, we compute the Euclidean distances as travel distances, and assume a average speed of 20 to compute the travel time matrix.\n",
    "\n",
    "Note that in real cases, travel distances cannot be approximated by Euclidean distances. To use the tool, the travel time matrix should be pre-computed and formated as stated after the example. "
   ]
  },
  {
   "cell_type": "code",
   "execution_count": null,
   "metadata": {
    "scrolled": true
   },
   "outputs": [],
   "source": [
    "#travel Time matrix\n",
    "d = np.zeros((len(EVLo),len(CS)))\n",
    "for i in range(len(EVLo)):\n",
    "    for j in range(len(CS)):\n",
    "        d[i,j] = np.sqrt((EVLo_x[i]-CS_x[j])**2 + (EVLo_y[i]-CS_y[j])**2)\n",
    "c = d/200 #assume speed = 200\n",
    "print(\"Travel Time Matrix:\")\n",
    "print(np.round(c,4))"
   ]
  },
  {
   "cell_type": "markdown",
   "metadata": {},
   "source": [
    "From the literature, we know that people value charging time and access time differently. So we allow the usrs to assign different weights for access time and charging time. Note that the final output are still in real time units, not weighted. Below are the values we found from the literature (Ge, 2019).\n",
    "\n",
    "Reference: Ge, Y. (2019). Discrete Choice Modeling of Plug-in Electric Vehicle Use and Charging Behavior Using Stated Preference Data (Doctoral dissertation)."
   ]
  },
  {
   "cell_type": "code",
   "execution_count": null,
   "metadata": {},
   "outputs": [],
   "source": [
    "#access time weight\n",
    "access_time_weight = 6.198\n",
    "#charging time weight\n",
    "charging_time_weight = 1"
   ]
  },
  {
   "cell_type": "markdown",
   "metadata": {},
   "source": [
    "Then we set convergence criterion. When the Euclidean norm of the diffierence between the assignment matrix at this iteration and that at the last iteration is smaller than the convergence criterion (UE is reached to some extent), the algorithm stops and outputs the results. "
   ]
  },
  {
   "cell_type": "code",
   "execution_count": null,
   "metadata": {},
   "outputs": [],
   "source": [
    "#set convergence criterion\n",
    "e = 10**-4"
   ]
  },
  {
   "cell_type": "markdown",
   "metadata": {},
   "source": [
    "With large numbers of origins and charging stations, it would take long for the algorithm to converge (sometimes several hours). It might help to keep track of where the algorithm gets. The algorithm is able to print the error (the diffierence between the assignment matrix at this iteration and that at the last iteration), mean access cost of and the number of steady-state charging stations at the current iteration to give a sense of where we are. The number of iterations between 2 consecutive outputs can be set below."
   ]
  },
  {
   "cell_type": "code",
   "execution_count": null,
   "metadata": {},
   "outputs": [],
   "source": [
    "#print setting: print error, mean cost and number of steady-state charging stations every pri iterations\n",
    "pri = 6000\n",
    "#if no printing is needed before the final results, set pri as inf\n",
    "# pri = np.inf"
   ]
  },
  {
   "cell_type": "markdown",
   "metadata": {},
   "source": [
    "Now we are ready to run the algorithm below. \n",
    "### Before you run, please make sure you don't have a folder named \"Results _example\" in the same directory as the script."
   ]
  },
  {
   "cell_type": "code",
   "execution_count": null,
   "metadata": {
    "scrolled": false
   },
   "outputs": [],
   "source": [
    "%%time\n",
    "################################### MSA ######################################\n",
    "\n",
    "#initialization\n",
    "d_ = c.copy() #initialize the travel cost matrix assuming no wait time\n",
    "X = np.zeros((len(EVLo),len(CS))) #assignment matrix\n",
    "\n",
    "#iterative Assignment\n",
    "for n in range(10000000000000):\n",
    "   \n",
    "    #re-assign the EVs based on the updated travel cost\n",
    "    Y = np.zeros((len(EVLo),len(CS)))\n",
    "    for i in range(len(EVLo)):\n",
    "        d_min = min(d_[i,:]) \n",
    "        J = np.argwhere(d_[i,:] == d_min)[0][0] #Find the closest CS\n",
    "        Y[i,J] = EVLo[\"Number of EVs\"][i] #Assign the EVs to the closest CS\n",
    "    if n == 0:\n",
    "        X = Y\n",
    "    else:\n",
    "        X = Y/(n+1) + n*X_/(n+1) # Assign 1/n+1 of the EVs at nth iteartion\n",
    "\n",
    "    #check convergence\n",
    "    if n > 0:\n",
    "        error = abs(np.linalg.norm(X-X_))\n",
    "        if error < e: # convergence criterion\n",
    "            print('-------------------- convergence reached --------------------')\n",
    "            print(\" \")\n",
    "            break\n",
    "    \n",
    "    lmda = np.zeros((len(CS))) #initialize arrival rate vector of CS\n",
    "    rou = np.zeros((len(CS))) #initialize rou vector of CS\n",
    "    wait_MMK = np.zeros((len(CS))) #initialize M/M/k queuing time vector of CS\n",
    "    wait_MDK = np.zeros((len(CS))) #initialize M/D/k queuing time vector of CS\n",
    "    char = np.zeros((len(CS))) #initialize charging time vector of CS\n",
    "    \n",
    "    #compute waiting time at each CS according to the assignment at this iteration\n",
    "    steady_index = np.zeros((len(CS)))\n",
    "    for j in range(len(CS)):\n",
    "        miu = CS[\"mu\"][j]\n",
    "        k = CS[\"Number of Chargers\"][j]\n",
    "        a = EVLo[\"Number of EVs\"].to_numpy()\n",
    "        lmda[j] = sum(X[:,j]) #compute the arrival rate of each CS\n",
    "        rou[j] = lmda[j]/(miu*k) #compute the utilization ratio of each CS\n",
    "        \n",
    "        if (rou[j] < 1) and (rou[j] > 0): #if the queue at the CS is steady\n",
    "            steady_index[j] = 1\n",
    "            #Recursively approximate the M/M/k waiting time\n",
    "            for m in range(1,k+1):\n",
    "                if m == 1:\n",
    "                    alpha = 1\n",
    "                else:\n",
    "                    alpha = 1 + miu/lmda[j] * (m-1) * alpha_\n",
    "                alpha_ = alpha\n",
    "                wait_MMK[j] = lmda[j] / ( (miu*k-lmda[j])**2 * (alpha + lmda[j]/(miu*k-lmda[j])) ) \n",
    "            #Approximate the M/D/K waiting time from M/M/K waiting time          \n",
    "            wait_MDK[j] = wait_MMK[j]/2 * (1 + (1-rou[j])*(k-1)*(np.sqrt(4+5*k)-2)/(16*rou[j]*k))\n",
    "            char[j] = 1/miu\n",
    "            \n",
    "        if rou[j] >= 1: #if the queue at the CS is unsteady\n",
    "            steady_index[j] = 0\n",
    "            wait_MDK[j] = lmda[j]/(2*miu*k)\n",
    "            char[j] = 1/miu\n",
    "            \n",
    "        if rou[j] == 0: #if no EV is assigned to the CS\n",
    "            steady_index[j] = 1\n",
    "            wait_MDK[j] = 0\n",
    "            char[j] = 0\n",
    "            \n",
    "    #add waiting time to travel cost to get new travel cost       \n",
    "    for i in range(len(EVLo)):\n",
    "        for j in range(len(CS)):\n",
    "            d_[i,j] = access_time_weight*c[i,j] + access_time_weight*wait_MDK[j] + charging_time_weight*char[j]\n",
    "            \n",
    "    X_ = X #save the result of this iteration\n",
    "    \n",
    "    if n % pri == 0 and n>0:\n",
    "        print('Iteration ',n)\n",
    "        print(\"error = \", error)\n",
    "        print(\"mean cost:\", np.mean(d_))\n",
    "        print(\"number of steady-state CS:\", sum(steady_index))\n",
    "        print('---------------------------------------')\n",
    "\n",
    "\n",
    "#-------------------------------------------------------------------------\n",
    "\n",
    "#compute the cost of final assignment (travel time + queuing time)\n",
    "d_final = np.zeros((len(EVLo),len(CS)))\n",
    "for j in range(len(CS)):\n",
    "    miu = CS[\"mu\"][j]\n",
    "    k = CS[\"Number of Chargers\"][j]\n",
    "    a = EVLo[\"Number of EVs\"].to_numpy()\n",
    "    lmda[j] = sum(X[:,j]) #compute the arrival rate of each CS\n",
    "    rou[j] = lmda[j]/(miu*k) #compute the utilization ratio of each CS\n",
    "\n",
    "    if (rou[j] < 1) and (rou[j] > 0): #if the queue at the CS is steady\n",
    "        #Recursively approximate the M/M/k waiting time\n",
    "        for m in range(1,k+1):\n",
    "            if m == 1:\n",
    "                alpha = 1\n",
    "            else:\n",
    "                alpha = 1 + miu/lmda[j] * (m-1) * alpha_\n",
    "            alpha_ = alpha\n",
    "            wait_MMK[j] = lmda[j] / ( (miu*k-lmda[j])**2 * (alpha + lmda[j]/(miu*k-lmda[j])) ) \n",
    "        #Approximate the M/D/K waiting time from M/M/K waiting time          \n",
    "        wait_MDK[j] = wait_MMK[j]/2 * (1 + (1-rou[j])*(k-1)*(np.sqrt(4+5*k)-2)/(16*rou[j]*k))\n",
    "        char[j] = 1/miu\n",
    "\n",
    "    if rou[j] >= 1: #if the queue at the CS is unsteady\n",
    "        wait_MDK[j] = lmda[j]/(2*miu*k)\n",
    "        char[j] = 1/miu\n",
    "\n",
    "    if rou[j] == 0: #if no EV is assigned to the CS\n",
    "        wait_MDK[j] = 0\n",
    "        char[j] = 0\n",
    "\n",
    "#add waiting time to travel cost to get new travel cost       \n",
    "for i in range(len(EVLo)):\n",
    "    for j in range(len(CS)):\n",
    "        d_final[i,j] = c[i,j] + wait_MDK[j] + char[j] #Travel time + Queuing + Charging time Matrix\n",
    "        \n",
    "\n",
    "#----------------------------------------------------------------------------------------------------------\n",
    "os.mkdir('Results_example')\n",
    "np.savetxt('Results_example/Assignment Matrix_example.csv', X, delimiter=\",\")\n",
    "np.savetxt('Results_example/Access Time + Charging Time Matrix_example.csv', d_final, delimiter=\",\")\n",
    "\n",
    "#Charging Time Matrix\n",
    "t_char = np.array(list(char)*len(EVLo)).reshape(len(EVLo),len(CS))\n",
    "np.savetxt('Results_example/Charging Time Matrix_example.csv', t_char, delimiter=\",\")\n",
    "\n",
    "#Access Time Matrix\n",
    "t_access = d_final - t_char\n",
    "np.savetxt('Results_example/Access Time Matrix_example.csv', t_access, delimiter=\",\")\n",
    "\n",
    "# Compute the EV Location Table\n",
    "acc_char = np.dot(X,d_final.T).diagonal() \n",
    "EVLo_avg_acc_char = np.zeros((len(EVLo)))\n",
    "for i in range(len(EVLo)):\n",
    "    EVLo_avg_acc_char[i] = acc_char[i]/a[i]\n",
    "access = np.dot(X,t_access.T).diagonal() \n",
    "a = EVLo[\"Number of EVs\"].to_numpy()\n",
    "EVLo_avg_access = np.zeros((len(EVLo)))\n",
    "for i in range(len(EVLo)):\n",
    "    EVLo_avg_access[i] = access[i]/a[i]   \n",
    "EVLo_avg_char = EVLo_avg_acc_char-EVLo_avg_access\n",
    "ID = EVLo.ID.to_numpy()    \n",
    "b = {\"ID\":ID, \n",
    "     \"Avg Access Time\":EVLo_avg_access, \n",
    "     \"Avg Charging Time\":EVLo_avg_char,\n",
    "     \"Avg Access+Charging Time\":EVLo_avg_acc_char}\n",
    "EVLo_avg = pd.DataFrame(b)\n",
    "EVLo_avg.to_csv(\"Results_example/EV Parking Location Table_example.csv\")\n",
    "\n",
    "# Compute the Charging Station Table\n",
    "CS_ID = CS['ID'].to_numpy()\n",
    "a = {\"CS_ID\":CS_ID,\n",
    "     \"Utilization Ratio\":rou,\n",
    "     \"Queue Delay\":wait_MDK,\n",
    "     \"Charging Time\":char,\n",
    "     \"Queue Delay+Charging Time\":wait_MDK}\n",
    "CS_final = pd.DataFrame(data = a)\n",
    "CS_final.to_csv(\"Results_example/Charging Station Table_example.csv\")\n",
    "\n",
    "# System total access time\n",
    "sys_access = np.sum(access)\n",
    "# System total access time + charging time\n",
    "sys_acc_char = np.sum(acc_char)\n",
    "\n",
    "num_EV = np.sum(EVLo['Number of EVs'].to_numpy())\n",
    "\n",
    "# Average access time\n",
    "avg_access = sys_access/num_EV\n",
    "# Averagel access time + charging time\n",
    "avg_acc_char = sys_acc_char/num_EV\n",
    "        \n",
    "# output the results\n",
    "print('--- Final Results ---')\n",
    "print(\"number of steady-state charging stations:\", sum(steady_index))\n",
    "print(\"number of iterations: \",n)\n",
    "print(\" \")\n",
    "print(\"Assignment:\")\n",
    "print(np.round(X,2))\n",
    "print(\" \")\n",
    "print(\"Access time:\")\n",
    "print(np.round(t_access,2))\n",
    "print(\" \")\n",
    "print(\"Charging time:\")\n",
    "print(np.round(t_char,2))\n",
    "print(\" \")\n",
    "print(\"Access + Charging time:\")\n",
    "print(np.round(d_final,2))\n",
    "print(\" \")\n",
    "print(\"Weighted Access + Charging time:\")\n",
    "print(np.round(access_time_weight*t_access + charging_time_weight*t_char,2))\n",
    "print(\" \")\n",
    "print('Charging stations at UE:')\n",
    "print(CS_final)\n",
    "print(\" \")\n",
    "print('EV Locations:')\n",
    "print(EVLo_avg)\n",
    "print(\" \")\n",
    "print('System Total Access Time:', np.round(sys_access,3))\n",
    "print('System Total Access + Charging Time:', np.round(sys_acc_char,3))\n",
    "print('Average Access Time for 1 EV:', np.round(avg_access,3))\n",
    "print('Average Access + Charging Time for 1 EV:', np.round(avg_acc_char,3))\n",
    "print(\" \")"
   ]
  },
  {
   "cell_type": "markdown",
   "metadata": {},
   "source": [
    "The tool outputs the assignment matrix, the access costs matrix (Travel and wait time matrix), number of steady-state charging stations, number of iterations when converge, table of charging station utilization ratio and expected wait time at UE, and average access time of origins at UE. In the example, these results are printed out. While in the following tool, the outputs are saved as CSV files.\n",
    "\n",
    "Note: Please make sure to check the number of steady-state charging stations when converge. If the number of steady-state charging stations is less than the total number of charging stations, this tool might not be very accurate."
   ]
  },
  {
   "cell_type": "markdown",
   "metadata": {},
   "source": [
    "--------------------------------------"
   ]
  },
  {
   "cell_type": "markdown",
   "metadata": {},
   "source": [
    "# To use this Tool:\n",
    "\n",
    "Please save the EV location list, charging station list and the travel cost matrix as csv files in the same folder as this script, then fill in the file names in the following cell correspondingly."
   ]
  },
  {
   "cell_type": "markdown",
   "metadata": {},
   "source": [
    "## 1. Read in the EV parking location csv file\n",
    "    Parameter \"EVLo\": information of the EV demand and locations. There are 2 columns in the table:\n",
    "    \"ID\" : 1,2,3,4,... (int64)\n",
    "    \"Number of EVs\" : the number of EVs to be charged per unit time at that location (int64)\n",
    "    \n",
    "    Please name the columns exactly as required."
   ]
  },
  {
   "cell_type": "code",
   "execution_count": null,
   "metadata": {
    "scrolled": true
   },
   "outputs": [],
   "source": [
    "# read the EV location list\n",
    "EVLo = pd.read_csv('NYC_total_charging_demand.csv') #Please change the file name here if you are using other file\n",
    "EVLo"
   ]
  },
  {
   "cell_type": "markdown",
   "metadata": {},
   "source": [
    "## 2. Read in the Charging Station csv file\n",
    "    Parameter \"CS\": information of the charging station and their service capacities. There are 3 columns in the table:\n",
    "    \"ID\" : 1,2,3,4,... (int64)\n",
    "    \"mu\": service rate (number of EVs charged/unit time) of one charger at this charging station (int64)\n",
    "    \"Number of Chargers\" : the number of chargers at this charging station (int64)\n",
    "    \n",
    "    Note: Within each charging station, all the chargers are of the same type (Level 2 or DC Fast).If some charging stations in\n",
    "        \n",
    "    Please name the columns exactly as required."
   ]
  },
  {
   "cell_type": "code",
   "execution_count": null,
   "metadata": {},
   "outputs": [],
   "source": [
    "#read charging station list\n",
    "CS = pd.read_csv('NYC_public_charging_stations_nonTesla.csv') #Please change the file name here if you are using other file\n",
    "CS"
   ]
  },
  {
   "cell_type": "markdown",
   "metadata": {},
   "source": [
    "## 3. Read in the OD cost Matrix csv file\n",
    "    Parameter \"c\": the travel distance matrix.\n",
    "    Note:\n",
    "    1) The sequence of the rows should correspond to the sequence of the EV Locations in the EV location csv file, and the sequence of the columns should correspond to the sequence of the charging station csv file (float64)\n",
    "    2) No heading and index in the csv file"
   ]
  },
  {
   "cell_type": "code",
   "execution_count": null,
   "metadata": {},
   "outputs": [],
   "source": [
    "#read the OD cost matrix file\n",
    "c = np.genfromtxt('NYC_Zone_public_charging_station_distance_matrix.csv', delimiter=\",\") #Please change the file name here if you are using other file\n",
    "c"
   ]
  },
  {
   "cell_type": "markdown",
   "metadata": {},
   "source": [
    "## 4. Set Average Travel Speed\n",
    "    Parameter \"v\": average travel speed of the EV's.\n",
    "    Note: Unit of the speed should be: unit of distance for OD cost/unit of time for service rate and number of EVs to be charged"
   ]
  },
  {
   "cell_type": "code",
   "execution_count": null,
   "metadata": {},
   "outputs": [],
   "source": [
    "#set travel speed\n",
    "v = 25\n",
    "c = c/v"
   ]
  },
  {
   "cell_type": "markdown",
   "metadata": {},
   "source": [
    "## 5. Set Weights for Access Time and Charging Time\n",
    "    Parameter \"access_time_weight\":  weight of access time. Recommended value is 6.198.\n",
    "    Parameter \"charging_time_weight\":  weight of charging time. Recommended value is 1.\n",
    "    For the recommended values, please refer to Ge 2019.\n",
    "    \n",
    "    Reference: Ge, Y. (2019). Discrete Choice Modeling of Plug-in Electric Vehicle Use and Charging Behavior Using Stated Preference Data (Doctoral dissertation)."
   ]
  },
  {
   "cell_type": "code",
   "execution_count": null,
   "metadata": {},
   "outputs": [],
   "source": [
    "#access time weight\n",
    "access_time_weight = 6.198\n",
    "#charging time weight\n",
    "charging_time_weight = 1"
   ]
  },
  {
   "cell_type": "markdown",
   "metadata": {},
   "source": [
    "## 6. Set Convergence Criteria\n",
    "    Parameter \"e\":  If the Euclidean norm of the difference between the assignment matrix of this iteration and the last iteration is less than e, the algorithm stops and outputs the results. "
   ]
  },
  {
   "cell_type": "code",
   "execution_count": null,
   "metadata": {},
   "outputs": [],
   "source": [
    "#set convergence criterion\n",
    "e = 10**-3 #this is the value that we recommend for city-scale runs"
   ]
  },
  {
   "cell_type": "markdown",
   "metadata": {},
   "source": [
    "## 7. Set Printing\n",
    "    Parameter \"pri\": print error, mean cost and number of steady-state charging stations every pri iterations. If no printing is needed before the final results, set pri as inf (pri = np.inf)"
   ]
  },
  {
   "cell_type": "code",
   "execution_count": null,
   "metadata": {},
   "outputs": [],
   "source": [
    "#set printing\n",
    "pri = 10"
   ]
  },
  {
   "cell_type": "markdown",
   "metadata": {},
   "source": [
    "## 8. Run the algorithm\n",
    "    After the algorithm converges with the convergence criterion that you set, please check if all the charging stations are at steady state. \n",
    "    The 6 output files are saved in a folder named \"Results\" where this script is saved. \n",
    "    \n",
    "### Please make sure that there's no folder named \"Results\" at the directiry where the script and input files are saved. \n",
    "\n",
    "    The output files include:\n",
    "    \n",
    "     - Assignment Matrix.csv\n",
    "     - Access Time Matrix.csv\n",
    "     - Charging Time Matrix.csv\n",
    "     - Access + Charging Time Matrix.csv\n",
    "     - Charging Station Table.csv\n",
    "         - Columns:“Utilization Ratio”, \n",
    "                   “Expected Queue Delay”, \n",
    "                   “Charging Time”, \n",
    "                   “Expected Queue Delay + Charging Time”\n",
    "     - EV Parking Location Table.csv\n",
    "         - Columns:“Average Access Time”, \n",
    "                   “Average Charging Time”, \n",
    "                   “Average Access +Charging Time”\n",
    "    \n",
    "    The following results are directly printed:\n",
    "     - System Total Access Time\n",
    "     - System Total Access Time + Charging Time\n",
    "     - Average Access Time for one EV\n",
    "     - Average Access Time + Charging Time for one EV\n",
    "     - Number of steady-state (utilization ratio ≤ 1) charging stations at convergence \n",
    "     - Number of iterations until convergence\n",
    "     - Run time of the algorithm (wall time)\n",
    "\n",
    "### Please check if the number of steady-state charging stations at convergence equals to the total number of charging stations. If a large number of charging stations are not at steady state, the results are not accurate."
   ]
  },
  {
   "cell_type": "markdown",
   "metadata": {},
   "source": [
    "Run the algorithm below:"
   ]
  },
  {
   "cell_type": "code",
   "execution_count": null,
   "metadata": {},
   "outputs": [],
   "source": [
    "%%time\n",
    "################################### MSA ######################################\n",
    "\n",
    "#initialization\n",
    "d_ = c.copy() #initialize the travel cost matrix assuming no wait time\n",
    "X = np.zeros((len(EVLo),len(CS))) #assignment matrix\n",
    "\n",
    "#iterative Assignment\n",
    "for n in range(10000000000000):\n",
    "   \n",
    "    #re-assign the EVs based on the updated travel cost\n",
    "    Y = np.zeros((len(EVLo),len(CS)))\n",
    "    for i in range(len(EVLo)):\n",
    "        d_min = min(d_[i,:]) \n",
    "        J = np.argwhere(d_[i,:] == d_min)[0][0] #Find the closest CS\n",
    "        Y[i,J] = EVLo[\"Number of EVs\"][i] #Assign the EVs to the closest CS\n",
    "    if n == 0:\n",
    "        X = Y\n",
    "    else:\n",
    "        X = Y/(n+1) + n*X_/(n+1) # Assign 1/n+1 of the EVs at nth iteartion\n",
    "\n",
    "    #check convergence\n",
    "    if n > 0:\n",
    "        error = abs(np.linalg.norm(X-X_))\n",
    "        if error < e: # convergence criterion\n",
    "            print('-------------------- convergence reached --------------------')\n",
    "            print(\" \")\n",
    "            break\n",
    "    \n",
    "    lmda = np.zeros((len(CS))) #initialize arrival rate vector of CS\n",
    "    rou = np.zeros((len(CS))) #initialize rou vector of CS\n",
    "    wait_MMK = np.zeros((len(CS))) #initialize M/M/k queuing time vector of CS\n",
    "    wait_MDK = np.zeros((len(CS))) #initialize M/D/k queuing time vector of CS\n",
    "    char = np.zeros((len(CS))) #initialize charging time vector of CS\n",
    "    \n",
    "    #compute waiting time at each CS according to the assignment at this iteration\n",
    "    steady_index = np.zeros((len(CS)))\n",
    "    for j in range(len(CS)):\n",
    "        miu = CS[\"mu\"][j]\n",
    "        k = CS[\"Number of Chargers\"][j]\n",
    "        a = EVLo[\"Number of EVs\"].to_numpy()\n",
    "        lmda[j] = sum(X[:,j]) #compute the arrival rate of each CS\n",
    "        rou[j] = lmda[j]/(miu*k) #compute the utilization ratio of each CS\n",
    "        \n",
    "        if (rou[j] < 1) and (rou[j] > 0): #if the queue at the CS is steady\n",
    "            steady_index[j] = 1\n",
    "            #Recursively approximate the M/M/k waiting time\n",
    "            for m in range(1,k+1):\n",
    "                if m == 1:\n",
    "                    alpha = 1\n",
    "                else:\n",
    "                    alpha = 1 + miu/lmda[j] * (m-1) * alpha_\n",
    "                alpha_ = alpha\n",
    "                wait_MMK[j] = lmda[j] / ( (miu*k-lmda[j])**2 * (alpha + lmda[j]/(miu*k-lmda[j])) ) \n",
    "            #Approximate the M/D/K waiting time from M/M/K waiting time          \n",
    "            wait_MDK[j] = wait_MMK[j]/2 * (1 + (1-rou[j])*(k-1)*(np.sqrt(4+5*k)-2)/(16*rou[j]*k))\n",
    "            char[j] = 1/miu\n",
    "            \n",
    "        if rou[j] >= 1: #if the queue at the CS is unsteady\n",
    "            steady_index[j] = 0\n",
    "            wait_MDK[j] = lmda[j]/(2*miu*k)\n",
    "            char[j] = 1/miu\n",
    "            \n",
    "        if rou[j] == 0: #if no EV is assigned to the CS\n",
    "            steady_index[j] = 1\n",
    "            wait_MDK[j] = 0\n",
    "            char[j] = 0\n",
    "            \n",
    "    #add waiting time to travel cost to get new travel cost       \n",
    "    for i in range(len(EVLo)):\n",
    "        for j in range(len(CS)):\n",
    "            d_[i,j] = access_time_weight*c[i,j] + access_time_weight*wait_MDK[j] + charging_time_weight*char[j]\n",
    "            \n",
    "    X_ = X #save the result of this iteration\n",
    "    \n",
    "    if n % pri == 0 and n>0:\n",
    "        print('Iteration ',n)\n",
    "        print(\"error = \", error)\n",
    "        print(\"mean cost:\", np.mean(d_))\n",
    "        print(\"number of steady-state CS:\", sum(steady_index))\n",
    "        print('---------------------------------------')\n",
    "\n",
    "\n",
    "#-------------------------------------------------------------------------\n",
    "\n",
    "#compute the cost of final assignment (travel time + queuing time)\n",
    "d_final = np.zeros((len(EVLo),len(CS)))\n",
    "for j in range(len(CS)):\n",
    "    miu = CS[\"mu\"][j]\n",
    "    k = CS[\"Number of Chargers\"][j]\n",
    "    a = EVLo[\"Number of EVs\"].to_numpy()\n",
    "    lmda[j] = sum(X[:,j]) #compute the arrival rate of each CS\n",
    "    rou[j] = lmda[j]/(miu*k) #compute the utilization ratio of each CS\n",
    "\n",
    "    if (rou[j] < 1) and (rou[j] > 0): #if the queue at the CS is steady\n",
    "        #Recursively approximate the M/M/k waiting time\n",
    "        for m in range(1,k+1):\n",
    "            if m == 1:\n",
    "                alpha = 1\n",
    "            else:\n",
    "                alpha = 1 + miu/lmda[j] * (m-1) * alpha_\n",
    "            alpha_ = alpha\n",
    "            wait_MMK[j] = lmda[j] / ( (miu*k-lmda[j])**2 * (alpha + lmda[j]/(miu*k-lmda[j])) ) \n",
    "        #Approximate the M/D/K waiting time from M/M/K waiting time          \n",
    "        wait_MDK[j] = wait_MMK[j]/2 * (1 + (1-rou[j])*(k-1)*(np.sqrt(4+5*k)-2)/(16*rou[j]*k))\n",
    "        char[j] = 1/miu\n",
    "\n",
    "    if rou[j] >= 1: #if the queue at the CS is unsteady\n",
    "        wait_MDK[j] = lmda[j]/(2*miu*k)\n",
    "        char[j] = 1/miu\n",
    "\n",
    "    if rou[j] == 0: #if no EV is assigned to the CS\n",
    "        wait_MDK[j] = 0\n",
    "        char[j] = 0\n",
    "\n",
    "#add waiting time to travel cost to get new travel cost       \n",
    "for i in range(len(EVLo)):\n",
    "    for j in range(len(CS)):\n",
    "        d_final[i,j] = c[i,j] + wait_MDK[j] + char[j] #Travel time + Queuing + Charging time Matrix\n",
    "        \n",
    "\n",
    "#----------------------------------------------------------------------------------------------------------\n",
    "os.mkdir('Results')\n",
    "np.savetxt('Results_example/Assignment Matrix.csv', X, delimiter=\",\")\n",
    "np.savetxt('Results_example/Access Time + Charging Time Matrix.csv', d_final, delimiter=\",\")\n",
    "\n",
    "#Charging Time Matrix\n",
    "t_char = np.array(list(char)*len(EVLo)).reshape(len(EVLo),len(CS))\n",
    "np.savetxt('Results_example/Charging Time Matrix.csv', t_char, delimiter=\",\")\n",
    "\n",
    "#Access Time Matrix\n",
    "t_access = d_final - t_char\n",
    "np.savetxt('Results_example/Access Time Matrix.csv', t_access, delimiter=\",\")\n",
    "\n",
    "# Compute the EV Location Table\n",
    "acc_char = np.dot(X,d_final.T).diagonal() \n",
    "EVLo_avg_acc_char = np.zeros((len(EVLo)))\n",
    "for i in range(len(EVLo)):\n",
    "    EVLo_avg_acc_char[i] = acc_char[i]/a[i]\n",
    "access = np.dot(X,t_access.T).diagonal() \n",
    "a = EVLo[\"Number of EVs\"].to_numpy()\n",
    "EVLo_avg_access = np.zeros((len(EVLo)))\n",
    "for i in range(len(EVLo)):\n",
    "    EVLo_avg_access[i] = access[i]/a[i]   \n",
    "EVLo_avg_char = EVLo_avg_acc_char-EVLo_avg_access\n",
    "ID = EVLo.ID.to_numpy()    \n",
    "b = {\"ID\":ID, \n",
    "     \"Avg Access Time\":EVLo_avg_access, \n",
    "     \"Avg Charging Time\":EVLo_avg_char,\n",
    "     \"Avg Access+Charging Time\":EVLo_avg_acc_char}\n",
    "EVLo_avg = pd.DataFrame(b)\n",
    "EVLo_avg.to_csv(\"Results_example/EV Parking Location Table.csv\")\n",
    "\n",
    "# Compute the Charging Station Table\n",
    "CS_ID = CS['ID'].to_numpy()\n",
    "a = {\"CS_ID\":CS_ID,\n",
    "     \"Utilization Ratio\":rou,\n",
    "     \"Queue Delay\":wait_MDK,\n",
    "     \"Charging Time\":char,\n",
    "     \"Queue Delay+Charging Time\":wait_MDK}\n",
    "CS_final = pd.DataFrame(data = a)\n",
    "CS_final.to_csv(\"Results_example/Charging Station Table.csv\")\n",
    "\n",
    "# System total access time\n",
    "sys_access = np.sum(access)\n",
    "# System total access time + charging time\n",
    "sys_acc_char = np.sum(acc_char)\n",
    "\n",
    "num_EV = np.sum(EVLo['Number of EVs'].to_numpy())\n",
    "\n",
    "# Average access time\n",
    "avg_access = sys_access/num_EV\n",
    "# Averagel access time + charging time\n",
    "avg_acc_char = sys_acc_char/num_EV\n",
    "        \n",
    "# output the results\n",
    "print('--- Final Results ---')\n",
    "print(\"number of steady-state charging stations:\", sum(steady_index))\n",
    "print(\"number of iterations: \",n)\n",
    "print(\" \")\n",
    "print('System Total Access Time:', np.round(sys_access,3))\n",
    "print('System Total Access + Charging Time:', np.round(sys_acc_char,3))\n",
    "print('Average Access Time for 1 EV:', np.round(avg_access,3))\n",
    "print('Average Access + Charging Time for 1 EV:', np.round(avg_acc_char,3))\n",
    "print(\" \")"
   ]
  },
  {
   "cell_type": "markdown",
   "metadata": {},
   "source": [
    "Github link:\n",
    "https://github.com/BUILTNYU/EV_Charging_Station_Access_Equlibrium_Model\n",
    "\n",
    "Our paper on this:\n",
    "https://www.researchgate.net/publication/349234204_An_electric_vehicle_charging_station_access_equilibrium_model_with_MDC_queueing\n",
    "\n",
    "\n",
    "Thank you!\n",
    "\n",
    "--\n",
    "\n",
    "Bingqing (Chloe) Liu\n",
    "\n",
    "Ph.D Candidate in Transportation Planning and Engineering\n",
    "\n",
    "C2SMART\n",
    "\n",
    "New York University Tandon School of Engineering\n",
    "\n",
    "bl2453@nyu.edu"
   ]
  },
  {
   "cell_type": "code",
   "execution_count": null,
   "metadata": {},
   "outputs": [],
   "source": []
  }
 ],
 "metadata": {
  "colab": {
   "name": "EV Assignment Example.ipynb",
   "provenance": []
  },
  "kernelspec": {
   "display_name": "Python 3",
   "language": "python",
   "name": "python3"
  },
  "language_info": {
   "codemirror_mode": {
    "name": "ipython",
    "version": 3
   },
   "file_extension": ".py",
   "mimetype": "text/x-python",
   "name": "python",
   "nbconvert_exporter": "python",
   "pygments_lexer": "ipython3",
   "version": "3.8.5"
  }
 },
 "nbformat": 4,
 "nbformat_minor": 1
}
